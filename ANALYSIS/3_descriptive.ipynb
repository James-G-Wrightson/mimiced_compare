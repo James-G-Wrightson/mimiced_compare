{
 "cells": [
  {
   "cell_type": "code",
   "execution_count": 1,
   "id": "b83ce3d9",
   "metadata": {},
   "outputs": [
    {
     "name": "stdout",
     "output_type": "stream",
     "text": [
      "Loading required package: pacman\n"
     ]
    }
   ],
   "source": [
    "if(!require(\"pacman\")) install.packages(\"pacman\")\n",
    "pacman::p_load(arrow, janitor, rlang,cardx, gtsummary, gt, ggupset,ggvenn, ggsci,RColorBrewer, patchwork, psych, binom,effectsize, rcompanion,rstatix,confintr, tidyverse)"
   ]
  },
  {
   "cell_type": "markdown",
   "id": "f2e70445",
   "metadata": {},
   "source": [
    "# Data"
   ]
  },
  {
   "cell_type": "code",
   "execution_count": 2,
   "id": "f8c4a4be",
   "metadata": {},
   "outputs": [],
   "source": [
    "# Chief complaint data\n",
    "data_cc <- read_parquet('../MIMICED/chiefcomp_clustered.parquet') |> \n",
    "  select(stay_id, cluster)\n",
    "\n",
    "# ED data\n",
    "ed_data <- read_parquet(\"../MIMICED/ed_join_cc.parquet\") |> \n",
    "  # Ill only keep some columns for this analysis\n",
    "  left_join(\n",
    "    data_cc,\n",
    "    by = \"stay_id\"\n",
    "  ) |>\n",
    "  # add a grouping column for the tables\n",
    "  mutate(\n",
    "    combined_group = paste0(nyu, res, acuity_out)\n",
    "  ) |> \n",
    "  arrow_table()"
   ]
  },
  {
   "cell_type": "markdown",
   "id": "6a77aea6",
   "metadata": {},
   "source": [
    "# Analysis"
   ]
  },
  {
   "cell_type": "code",
   "execution_count": 3,
   "id": "6335aac4",
   "metadata": {},
   "outputs": [
    {
     "name": "stdout",
     "output_type": "stream",
     "text": [
      "[1] \"N of visits before dropping NA acuity, age or race\"\n",
      "[1] 424707\n"
     ]
    }
   ],
   "source": [
    "print(\"N of visits before dropping NA acuity, age or race\")\n",
    "print(nrow(ed_data |> collect()))"
   ]
  },
  {
   "cell_type": "code",
   "execution_count": 4,
   "id": "72f7fbd0",
   "metadata": {},
   "outputs": [
    {
     "name": "stdout",
     "output_type": "stream",
     "text": [
      "[1] \"N of visits before dropping NA acuity\"\n",
      "[1] 417723\n"
     ]
    }
   ],
   "source": [
    "print(\"N of visits before dropping NA acuity\")\n",
    "ed_data <- ed_data |> \n",
    "  filter(!is.na(acuity) & !is.na(age) & !is.na(race)) |> \n",
    "  compute()\n",
    "vis_tot <- nrow(ed_data |> collect())\n",
    "print(vis_tot)"
   ]
  },
  {
   "cell_type": "code",
   "execution_count": 5,
   "id": "9c54c4c1",
   "metadata": {},
   "outputs": [
    {
     "name": "stdout",
     "output_type": "stream",
     "text": [
      "[1] \"N of distinct patients\"\n",
      "\u001b[38;5;246m# A tibble: 1 × 1\u001b[39m\n",
      "       n\n",
      "   \u001b[3m\u001b[38;5;246m<int>\u001b[39m\u001b[23m\n",
      "\u001b[38;5;250m1\u001b[39m \u001b[4m2\u001b[24m\u001b[4m0\u001b[24m\u001b[4m1\u001b[24m106\n"
     ]
    }
   ],
   "source": [
    "print(\"N of distinct patients\")\n",
    "ed_data |> \n",
    "  select(subject_id) |>\n",
    "  collect() |>\n",
    "  distinct(subject_id) |>\n",
    "  count() |> \n",
    "  print()"
   ]
  },
  {
   "cell_type": "markdown",
   "id": "83269aaf",
   "metadata": {},
   "source": [
    "Keep only the first visist by each patient"
   ]
  },
  {
   "cell_type": "code",
   "execution_count": 6,
   "id": "7dadde72",
   "metadata": {},
   "outputs": [],
   "source": [
    "ed_data <- ed_data |> \n",
    "  collect() |> \n",
    "  arrange(intime) |> \n",
    "  group_by(subject_id) |> \n",
    "  slice_head(n = 1) |>\n",
    "  ungroup() "
   ]
  },
  {
   "cell_type": "markdown",
   "id": "348729bf",
   "metadata": {},
   "source": [
    "# Table 1\n",
    "Create table 1 and table S1.   \n",
    "\n",
    "Create table 1 data"
   ]
  },
  {
   "cell_type": "code",
   "execution_count": 7,
   "id": "371821f4",
   "metadata": {},
   "outputs": [],
   "source": [
    "table_1_data<- ed_data |> \n",
    "  collect() |> \n",
    "  select(\n",
    "    age,\n",
    "    gender,\n",
    "    race,\n",
    "    Diagnosis = nyu,\n",
    "    Resources = res,\n",
    "    'Triage Acuity' = acuity_out\n",
    "  ) |> \n",
    "  mutate(\n",
    "    All = 1,\n",
    "    race = case_when(\n",
    "      str_detect(race, \"WHITE\") ~ \"White\",\n",
    "      str_detect(race, \"BLACK\") ~ \"Black\",\n",
    "      str_detect(race, \"HISPANIC\") ~ \"Hispanic/Lation\",\n",
    "      str_detect(race, \"ASIAN\") ~ \"Asian\",\n",
    "      T ~ \"Other\"\n",
    "    ),\n",
    "    race = as_factor(race),\n",
    "    gender = case_when(\n",
    "      gender == \"M\" ~ \"Male\",\n",
    "      gender == \"F\" ~ \"Female\"\n",
    "    ),\n",
    "    gender = as_factor(gender)\n",
    "  ) |> \n",
    "  drop_na() |>\n",
    "  pivot_longer(\n",
    "    cols = c(All, Diagnosis,Resources,'Triage Acuity'),\n",
    "    names_to = \"outcome\",\n",
    "    values_to = \"value\"\n",
    "  ) |> \n",
    "  filter(\n",
    "    value == 1\n",
    "  ) "
   ]
  },
  {
   "cell_type": "code",
   "execution_count": 8,
   "id": "ee324186",
   "metadata": {},
   "outputs": [
    {
     "name": "stdout",
     "output_type": "stream",
     "text": [
      "\u001b[38;5;246m# A tibble: 11 × 5\u001b[39m\n",
      "   `**Characteristic**`       **All**  \\nN = 201,106 [*…¹ **Diagnosis**  \\nN =…²\n",
      "   \u001b[3m\u001b[38;5;246m<chr>\u001b[39m\u001b[23m                      \u001b[3m\u001b[38;5;246m<chr>\u001b[39m\u001b[23m                       \u001b[3m\u001b[38;5;246m<chr>\u001b[39m\u001b[23m                 \n",
      "\u001b[38;5;250m 1\u001b[39m __Gender (%)__             \u001b[31mNA\u001b[39m                          \u001b[31mNA\u001b[39m                    \n",
      "\u001b[38;5;250m 2\u001b[39m Female                     54% [53%, 54%]              60% [60%, 60%]        \n",
      "\u001b[38;5;250m 3\u001b[39m Male                       46% [46%, 47%]              40% [40%, 40%]        \n",
      "\u001b[38;5;250m 4\u001b[39m __Self-reported Race (%)__ \u001b[31mNA\u001b[39m                          \u001b[31mNA\u001b[39m                    \n",
      "\u001b[38;5;250m 5\u001b[39m White                      62% [62%, 62%]              55% [55%, 56%]        \n",
      "\u001b[38;5;250m 6\u001b[39m Black                      16% [16%, 16%]              20% [20%, 21%]        \n",
      "\u001b[38;5;250m 7\u001b[39m Other                      10% [9.7%, 10%]             10% [9.5%, 10%]       \n",
      "\u001b[38;5;250m 8\u001b[39m Hispanic/Lation            6% [6.4%, 6.6%]             8% [8.2%, 8.6%]       \n",
      "\u001b[38;5;250m 9\u001b[39m Asian                      6% [5.5%, 5.7%]             6% [6.0%, 6.4%]       \n",
      "\u001b[38;5;250m10\u001b[39m __Age (Years, mean)__      49 [49, 49]                 45 [45, 46]           \n",
      "\u001b[38;5;250m11\u001b[39m __(Years, median)__        49 (18-102)                 43 (18-102)           \n",
      "\u001b[38;5;246m# ℹ abbreviated names: ¹​`**All**  \\nN = 201,106 [**95% CI**]`,\u001b[39m\n",
      "\u001b[38;5;246m#   ²​`**Diagnosis**  \\nN = 68,173 [**95% CI**]`\u001b[39m\n",
      "\u001b[38;5;246m# ℹ 2 more variables: `**Resources**  \\nN = 48,181 [**95% CI**]` <chr>,\u001b[39m\n",
      "\u001b[38;5;246m#   `**Triage Acuity**  \\nN = 15,716 [**95% CI**]` <chr>\u001b[39m\n"
     ]
    }
   ],
   "source": [
    "table_1 <- table_1_data |> \n",
    "  mutate(\n",
    "    age_mean = age,\n",
    "    age_median = age\n",
    "  ) |>\n",
    "  select(-value, -age) |>\n",
    "  tbl_summary(\n",
    "    by = outcome,\n",
    "    label = list(\n",
    "      age_mean ~ \"Age (Years, mean)\",\n",
    "      age_median ~ \"(Years, median)\",\n",
    "      gender ~ \"Gender (%)\",\n",
    "      race ~ \"Self-reported Race (%)\"\n",
    "    ),\n",
    "    statistic = list(\n",
    "      age_mean ~ \"{mean}\",\n",
    "      age_median ~ \"{median} ({min}-{max})\",\n",
    "      all_categorical() ~ \"{p}%\"\n",
    "    ),\n",
    "    sort =  all_categorical() ~ \"frequency\",\n",
    "    digits = list(everything() ~ c(0, 0))\n",
    "  ) |> \n",
    "  bold_labels() |> \n",
    "  add_ci(\n",
    "    include = c(age_mean, all_categorical()),\n",
    "    method = list(\n",
    "      age_mean ~ \"t.test\",\n",
    "      all_categorical() ~ \"agresti.coull\"\n",
    "      ),\n",
    "    statistic = list(\n",
    "      age_mean ~ \"{conf.low}, {conf.high}\", \n",
    "      all_categorical() ~ \"{conf.low}%, {conf.high}%\"\n",
    "    ),\n",
    "    pattern = \"{stat} [{ci}]\",\n",
    "    conf.level = 0.95\n",
    "  ) |>\n",
    "  modify_spanning_header(\n",
    "    c(stat_2, stat_3, stat_4) ~ \"**Potentially Avoidable ED Visits Algorithm**\"\n",
    "  ) |>\n",
    "  modify_footnote_header(\n",
    "    footnote = \"Confidence interval (CI) for categorical variables is computed using Agresti-Coull interval.\",\n",
    "    columns = all_stat_cols(),\n",
    "    replace = TRUE\n",
    "  ) |>\n",
    "  modify_footnote_body(\n",
    "    footnote = \"For clarity, self-reported races have been collapsed. Full details can be found in the supplementary material.\",\n",
    "    columns = \"label\",\n",
    "    rows = variable == \"race\" & row_type == \"label\",\n",
    "    replace = TRUE\n",
    "  ) \n",
    "\n",
    "\n",
    "# Display the table\n",
    "table_1 |> \n",
    "  as_tibble() |> \n",
    "  print(n=30)\n",
    "\n",
    "# save the tables\n",
    "table_1 |> \n",
    "  as_gt() |> \n",
    "  gt::gtsave(filename = \"table_1.docx\") \n"
   ]
  },
  {
   "cell_type": "code",
   "execution_count": 9,
   "id": "dc969c62",
   "metadata": {},
   "outputs": [],
   "source": [
    "# Create table S1\n",
    "table_S1 <- table_1_data |> \n",
    "  select(\n",
    "    race,\n",
    "    outcome\n",
    "  ) |> \n",
    "  collect() |> \n",
    "  drop_na() |>\n",
    "  tbl_summary(\n",
    "    by = outcome,\n",
    "    label = list(\n",
    "      race ~ \"Race\"\n",
    "    ),\n",
    "    statistic = list(\n",
    "      all_categorical() ~ \"{n} ({p}%)\"\n",
    "    ),\n",
    "    sort =  all_categorical() ~ \"frequency\"\n",
    "  )\n",
    "\n",
    "# Save table S1\n",
    "table_S1 |> \n",
    "  as_gt() |> \n",
    "  gt::gtsave(filename = \"table_S1.docx\") "
   ]
  },
  {
   "cell_type": "markdown",
   "id": "915cd499",
   "metadata": {},
   "source": [
    "# Number of visits identified"
   ]
  },
  {
   "cell_type": "code",
   "execution_count": 10,
   "id": "20c7b448",
   "metadata": {},
   "outputs": [
    {
     "name": "stdout",
     "output_type": "stream",
     "text": [
      "[1] 100568\n"
     ]
    }
   ],
   "source": [
    "num_vs <- ed_data |>\n",
    "  filter(combined_group != \"000\") |>\n",
    "  nrow() \n",
    "num_vs |> print()"
   ]
  },
  {
   "cell_type": "code",
   "execution_count": 11,
   "id": "2cb5eb02",
   "metadata": {},
   "outputs": [
    {
     "name": "stdout",
     "output_type": "stream",
     "text": [
      "[1] \"Percentage of visits identified: 50\"\n"
     ]
    }
   ],
   "source": [
    "print(paste(\n",
    "  \"Percentage of visits identified:\",\n",
    "  round(num_vs/nrow(ed_data |> collect())*100, 1)\n",
    "))"
   ]
  },
  {
   "cell_type": "code",
   "execution_count": 12,
   "id": "6e0c40c7",
   "metadata": {},
   "outputs": [
    {
     "name": "stdout",
     "output_type": "stream",
     "text": [
      "\u001b[38;5;246m# A tibble: 7 × 2\u001b[39m\n",
      "\u001b[38;5;246m# Groups:   combined_group [7]\u001b[39m\n",
      "  combined_group     n\n",
      "  \u001b[3m\u001b[38;5;246m<chr>\u001b[39m\u001b[23m          \u001b[3m\u001b[38;5;246m<int>\u001b[39m\u001b[23m\n",
      "\u001b[38;5;250m1\u001b[39m 100            \u001b[4m4\u001b[24m\u001b[4m4\u001b[24m119\n",
      "\u001b[38;5;250m2\u001b[39m 010            \u001b[4m2\u001b[24m\u001b[4m3\u001b[24m427\n",
      "\u001b[38;5;250m3\u001b[39m 110            \u001b[4m1\u001b[24m\u001b[4m7\u001b[24m306\n",
      "\u001b[38;5;250m4\u001b[39m 001             \u001b[4m4\u001b[24m690\n",
      "\u001b[38;5;250m5\u001b[39m 011             \u001b[4m4\u001b[24m278\n",
      "\u001b[38;5;250m6\u001b[39m 101             \u001b[4m3\u001b[24m578\n",
      "\u001b[38;5;250m7\u001b[39m 111             \u001b[4m3\u001b[24m170\n"
     ]
    }
   ],
   "source": [
    "num_vs <- ed_data |>\n",
    "  filter(combined_group != \"000\") |>\n",
    "  group_by(combined_group) |>\n",
    "  count(sort = T) |>\n",
    "  print()"
   ]
  },
  {
   "cell_type": "markdown",
   "id": "0013990c",
   "metadata": {},
   "source": [
    "# Agreement (Kappa)"
   ]
  },
  {
   "cell_type": "code",
   "execution_count": 13,
   "id": "291f467f",
   "metadata": {},
   "outputs": [],
   "source": [
    "# Get data\n",
    "fig1_data <- ed_data |> \n",
    "  select(\n",
    "    nyu,\n",
    "    res,\n",
    "    acuity_out\n",
    "  ) |> \n",
    "  collect() "
   ]
  },
  {
   "cell_type": "code",
   "execution_count": 14,
   "id": "7f5012f7",
   "metadata": {},
   "outputs": [
    {
     "name": "stdout",
     "output_type": "stream",
     "text": [
      "\u001b[38;5;246m# A tibble: 3 × 5\u001b[39m\n",
      "  Var1          Var2           kappa ci_lower ci_upper\n",
      "  \u001b[3m\u001b[38;5;246m<chr>\u001b[39m\u001b[23m         \u001b[3m\u001b[38;5;246m<chr>\u001b[39m\u001b[23m          \u001b[3m\u001b[38;5;246m<dbl>\u001b[39m\u001b[23m    \u001b[3m\u001b[38;5;246m<dbl>\u001b[39m\u001b[23m    \u001b[3m\u001b[38;5;246m<dbl>\u001b[39m\u001b[23m\n",
      "\u001b[38;5;250m1\u001b[39m Diagnosis     Triage Acuity 0.038\u001b[4m8\u001b[24m   0.035\u001b[4m6\u001b[24m   0.035\u001b[4m6\u001b[24m\n",
      "\u001b[38;5;250m2\u001b[39m Diagnosis     Resources     0.099\u001b[4m0\u001b[24m   0.094\u001b[4m6\u001b[24m   0.094\u001b[4m6\u001b[24m\n",
      "\u001b[38;5;250m3\u001b[39m Triage Acuity Resources     0.131    0.126    0.126 \n"
     ]
    }
   ],
   "source": [
    "k1 <- cohen.kappa(x = cbind(fig1_data$nyu, fig1_data$acuity_out))\n",
    "k2 <- cohen.kappa(x = cbind(fig1_data$nyu, fig1_data$res))\n",
    "k3 <- cohen.kappa(x = cbind(fig1_data$acuity_out, fig1_data$res))\n",
    "\n",
    "kappa_df_ci <- tibble(\n",
    "  Var1 = c(\"Diagnosis\", \"Diagnosis\", \"Triage Acuity\"),\n",
    "  Var2 = c(\"Triage Acuity\", \"Resources\", \"Resources\"),\n",
    "  kappa = c(k1$kappa, k2$kappa, k3$kappa),\n",
    "  ci_lower = c(k1$confid[1], k2$confid[1], k3$confid[1]),\n",
    "  ci_upper = c(k1$confid[2], k2$confid[2], k3$confid[2])\n",
    ")\n",
    "\n",
    "kappa_df_ci |> \n",
    "  print()"
   ]
  },
  {
   "cell_type": "markdown",
   "id": "6ea15c5f",
   "metadata": {},
   "source": [
    "# Figure 1\n",
    "Create the upset plot for the interaction between sets"
   ]
  },
  {
   "cell_type": "markdown",
   "id": "91b1d763",
   "metadata": {},
   "source": [
    "I use the JAMA pallette for now, but can be changed"
   ]
  },
  {
   "cell_type": "code",
   "execution_count": 15,
   "id": "ccfeafcb",
   "metadata": {},
   "outputs": [
    {
     "data": {
      "image/png": "[encoded data removed]"
     },
     "metadata": {},
     "output_type": "display_data"
    }
   ],
   "source": [
    "jama_palette <- ggsci::pal_jama()(7)\n",
    "data.frame(\n",
    "  color = factor(seq_along(jama_palette)),\n",
    "  hex = jama_palette\n",
    ") |> \n",
    "  ggplot(aes(x = color, y = 1, fill = hex)) +\n",
    "  geom_tile() +\n",
    "  scale_fill_identity() "
   ]
  },
  {
   "cell_type": "markdown",
   "id": "a7e282ce",
   "metadata": {},
   "source": [
    "Data for figure 1"
   ]
  },
  {
   "cell_type": "markdown",
   "id": "cf0f4e03",
   "metadata": {},
   "source": [
    "## Figure 1A"
   ]
  },
  {
   "cell_type": "code",
   "execution_count": 16,
   "id": "20a261ac",
   "metadata": {},
   "outputs": [
    {
     "data": {
      "image/png": "[encoded data removed]"
     },
     "metadata": {},
     "output_type": "display_data"
    }
   ],
   "source": [
    "# Compute counts\n",
    "fig_1a_counts <- tibble(\n",
    "  \"Diagnosis\" = fig1_data |> filter(nyu == 1) |> nrow(),\n",
    "  \"Resources\" = fig1_data |> filter(res == 1, nyu == 0) |> nrow(),\n",
    "  \"Triage Acuity\" = fig1_data |> filter(acuity_out == 1,res == 0, nyu == 0) |> nrow()\n",
    ") |> \n",
    "pivot_longer(everything(), names_to = \"category\", values_to = \"count\") |>\n",
    "mutate(\n",
    "  category = factor(category, levels = c(\"Triage Acuity\", \"Resources\",  \"Diagnosis\"))\n",
    ") \n",
    "\n",
    "figure_1a <- ggplot(fig_1a_counts, aes(x = \"Total\", y = count, fill = category)) +\n",
    "geom_bar(stat = \"identity\") +\n",
    "theme_minimal()+\n",
    "  labs(\n",
    "    x=\"\",\n",
    "    y = \"Visits (N)\",\n",
    "    fill = \"\"\n",
    "  ) +\n",
    "scale_y_continuous(\n",
    "  expand = expansion(mult = c(0, 0.05)),\n",
    "  position = \"right\"\n",
    ")+\n",
    "# Pick colours to match the upset plot\n",
    "scale_fill_manual(values = jama_palette[c(4, 6, 5)])+\n",
    "guides(fill = guide_legend(reverse = TRUE)) +\n",
    "theme(\n",
    "  panel.grid = element_blank(),\n",
    "  legend.position=\"top\",\n",
    "  axis.line = element_line(color = \"black\"),\n",
    "  axis.text.x = element_blank()\n",
    ")\n",
    "\n",
    "figure_1a"
   ]
  },
  {
   "cell_type": "code",
   "execution_count": 17,
   "id": "7e2bc465",
   "metadata": {},
   "outputs": [],
   "source": [
    "# Compute counts\n",
    "# fig_1a_counts <- tibble(\n",
    "#     nyu = fig1_data |> filter(nyu == 1) |> nrow(),\n",
    "#     res_addtional = fig1_data |> filter(res == 1, nyu == 0) |> nrow(),\n",
    "#     acuity_additional = fig1_data |> filter(acuity_out == 1,res == 0, nyu == 0) |> nrow()\n",
    "# ) \n",
    "# fig_1a_trib <- tribble(\n",
    "#   ~bar,       ~segment, ~count,\n",
    "#   \"Diagnosis\", \"Diagnosis\",      fig_1a_counts$nyu,\n",
    "#   \"Diagnosis+Resources\", \"Diagnosis\", fig_1a_counts$nyu,\n",
    "#   \"Diagnosis+Resources\", \"Resources\", fig_1a_counts$res_addtional,\n",
    "#   \"Diagnosis+Resources+\\n Triage-Acuity\", \"Diagnosis\", fig_1a_counts$nyu,\n",
    "#   \"Diagnosis+Resources+\\n Triage-Acuity\", \"Resources\", fig_1a_counts$res_addtional,\n",
    "#   \"Diagnosis+Resources+\\n Triage-Acuity\", \"Triage-Acuity\", fig_1a_counts$acuity_additional\n",
    "# ) |> \n",
    "#   mutate(\n",
    "#     bar = factor(bar, levels = c(\"Diagnosis\", \"Diagnosis+Resources\",  \"Diagnosis+Resources+\\n Triage-Acuity\")),\n",
    "#     segment = factor(segment, levels = c( \"Triage-Acuity\", \"Resources\", \"Diagnosis\")),\n",
    "#   )\n",
    "\n",
    "# figure_1a <- fig_1a_trib |> \n",
    "#   ggplot(aes(x = bar, y = count, fill = segment)) +\n",
    "#   geom_bar(stat = \"identity\")  +\n",
    "#   labs(\n",
    "#     x=\"\",\n",
    "#     fill = \"\"\n",
    "#   ) +\n",
    "#   theme_minimal()+\n",
    "#   scale_y_continuous(expand = expansion(mult = c(0, 0.05)))+\n",
    "#   # Pick colours to match the upset plot\n",
    "#   scale_fill_manual(values = jama_palette[c(4, 6, 5)])+\n",
    "#   guides(fill = guide_legend(reverse = TRUE)) +\n",
    "#   theme(\n",
    "#     panel.grid = element_blank(),\n",
    "#     legend.position=\"top\",\n",
    "#     axis.line = element_line(color = \"black\"),\n",
    "#     axis.text.x = element_blank(),\n",
    "#     axis.title.y = element_blank()\n",
    "#   )\n",
    "\n",
    "# print(figure_1a)"
   ]
  },
  {
   "cell_type": "markdown",
   "id": "f8309a5c",
   "metadata": {},
   "source": [
    "## Figure 1B   \n",
    "\n",
    "UpSet plot"
   ]
  },
  {
   "cell_type": "code",
   "execution_count": 34,
   "id": "7b1baeb5",
   "metadata": {},
   "outputs": [
    {
     "data": {
      "image/png": "[encoded data removed]"
     },
     "metadata": {},
     "output_type": "display_data"
    }
   ],
   "source": [
    "set_levels <- c(\"Diagnosis\", \"Resources\", \"Triage-Acuity\")  \n",
    "# Turn columns into lists\n",
    " data_sets <-  fig1_data |>\n",
    "    mutate(sets = pmap(list(nyu, res, acuity_out), function(nyu, res, acuity_out) {\n",
    "      members <- c(\n",
    "        if (nyu == 1) \"Diagnosis\",\n",
    "        if (res == 1) \"Resources\",\n",
    "        if (acuity_out == 1) \"Triage-Acuity\"\n",
    "      )\n",
    "    members\n",
    "  }))\n",
    "\n",
    "# Calculate counts for each combination\n",
    "set_summary <- data_sets |>\n",
    "  filter(lengths(sets) > 0) |>\n",
    "  mutate(sets_label = sapply(sets, \\(x) paste(sort(x), collapse = \" + \"))) |>\n",
    "  count(sets_label, sort = TRUE)\n",
    "\n",
    "# Define custom order: single sets first, then intersections by descending count\n",
    "single_order <- c(\"Diagnosis\", \"Resources\", \"Triage-Acuity\")\n",
    "intersections_order <- set_summary |>\n",
    "  filter(!sets_label %in% single_order) |>\n",
    "  arrange(desc(n)) |>\n",
    "  pull(sets_label)\n",
    "custom_order <- c(single_order, intersections_order)\n",
    "\n",
    "# Assign a display order to each combination\n",
    "order_map <- tibble(\n",
    "  sets_label = custom_order,\n",
    "  display_order = seq_along(custom_order)\n",
    ")\n",
    "\n",
    "# Create plot data with custom ordering variable\n",
    "plot_data <- data_sets |> \n",
    "  filter(lengths(sets) > 0) |>\n",
    "  mutate(\n",
    "    sets_label = sapply(sets, \\(x) paste(sort(x), collapse = \" + \"))\n",
    "  ) |>\n",
    "  left_join(order_map, by = \"sets_label\") |>\n",
    "  mutate(\n",
    "    sets_label = factor(sets_label, levels = custom_order)\n",
    "  )\n",
    "\n",
    "# Create plot\n",
    "figure_1b <- plot_data |>\n",
    "  ggplot(aes(x = sets, fill = sets_label, order = display_order)) +\n",
    "  geom_bar() +\n",
    "  scale_x_upset(order_by = \"degree\") + \n",
    "  geom_text(\n",
    "    stat=\"count\", \n",
    "    aes(label=after_stat(count)), \n",
    "    vjust=-1, \n",
    "    size = 5,\n",
    "    colour = \"black\",\n",
    "    fontface = \"bold\"\n",
    "  )+\n",
    "  scale_y_continuous(expand = expansion(mult = c(0, 0.1)))+\n",
    "  labs(x = \"Set Intersections\", y = \"Count\")+\n",
    "  theme_minimal()+\n",
    "  theme(\n",
    "      legend.position = \"none\",\n",
    "      panel.grid=element_blank(),\n",
    "      axis.line = element_line(color = \"black\")\n",
    "    )+\n",
    "  theme_combmatrix(\n",
    "    combmatrix.label.text = element_text(\n",
    "      size =15, \n",
    "      colour = \"black\",\n",
    "      face = \"bold\"\n",
    "    )\n",
    "  )+ # Set the font size for matrix\n",
    "  labs(\n",
    "    x=\"\",\n",
    "    y=\"Visits (N)\"\n",
    "  )+\n",
    "  scale_fill_manual(\n",
    "    values = jama_palette[c(5,6,4,1,2,3,7)] \n",
    "  ) \n",
    "\n",
    "print(figure_1b)"
   ]
  },
  {
   "cell_type": "markdown",
   "id": "6f738411",
   "metadata": {},
   "source": [
    "## Join"
   ]
  },
  {
   "cell_type": "code",
   "execution_count": null,
   "id": "cf2b503a",
   "metadata": {},
   "outputs": [],
   "source": [
    "layout <- \"\n",
    "AAAA\n",
    "BB##\n",
    "\"\n",
    "Figure_1 <- figure_1b+figure_1a+\n",
    "  plot_layout(\n",
    "    # design = layout,\n",
    "    # widths = c(2, 1),  # left vs right column widths\n",
    "    # heights = c(3, 3)  # height ratio of p1a vs p1b\n",
    "  )+ \n",
    "  plot_annotation(\n",
    "    tag_levels = \"A\"\n",
    "  )&\n",
    "  theme(\n",
    "    plot.tag = element_text(\n",
    "      color = \"black\", \n",
    "      size = rel(1.5), \n",
    "      face = \"bold\"\n",
    "    ),\n",
    "    axis.text = element_text(\n",
    "      size=rel(1.5), \n",
    "      colour = \"black\", \n",
    "      face = \"bold\"\n",
    "    ),\n",
    "    axis.title = element_text(\n",
    "        size = rel(1.5), \n",
    "        colour = \"black\",\n",
    "        face = \"bold\"\n",
    "    ),\n",
    "    legend.text = element_text(\n",
    "      size = rel(1.2), \n",
    "      colour = \"black\",\n",
    "      face = \"bold\"\n",
    "    )\n",
    "  )\n",
    "\n",
    "ggsave(\"figure_1.png\", plot = Figure_1, device = \"png\", width = 15, height = 10, units = \"in\", dpi = 600)\n",
    "ggsave(\"figure_1.svg\", plot = Figure_1, device = \"svg\", width = 8, height = 6, units = \"in\")\n",
    "Figure_1"
   ]
  },
  {
   "cell_type": "markdown",
   "id": "a35a4dae",
   "metadata": {},
   "source": [
    "# Table 2"
   ]
  },
  {
   "cell_type": "code",
   "execution_count": 21,
   "id": "f31a2591",
   "metadata": {},
   "outputs": [],
   "source": [
    "# data for table\n",
    "table_2_data <- ed_data |> \n",
    "  select(\n",
    "    age,\n",
    "    gender,\n",
    "    pain,\n",
    "    acuity,\n",
    "    disposition,\n",
    "    length_of_stay,\n",
    "    revisit_72hrs,\n",
    "    prior_visits_1yr,\n",
    "    nyu,\n",
    "    res,\n",
    "    acuity_out,\n",
    "    combined_group\n",
    "  ) |> \n",
    "  collect() |> \n",
    "  mutate(\n",
    "    revisit_72hrs = case_when(\n",
    "      revisit_72hrs == \"NO\" ~ 0,\n",
    "      T ~ 1\n",
    "    ),\n",
    "    admitted = case_when(\n",
    "      disposition == \"ADMITTED\" ~ 1,\n",
    "      T ~ 0\n",
    "    ),\n",
    "    home = case_when(\n",
    "      disposition == \"HOME\" ~ 1,\n",
    "      T ~ 0\n",
    "    ),\n",
    "    male = case_when(\n",
    "      gender == \"M\" ~ 1,\n",
    "      T ~ 0\n",
    "    ),\n",
    "    female = case_when(\n",
    "      gender == \"F\" ~ 1,\n",
    "      T ~ 0\n",
    "    ),\n",
    "    acuity = as.integer(acuity),\n",
    "    pain = as.integer(pain),\n",
    "    total_alg = nyu + res + acuity_out,\n",
    "    only_one_algorithm = if_else(total_alg == 1, TRUE, FALSE)\n",
    "  ) \n",
    "total_n <- nrow(ed_data |> collect())"
   ]
  },
  {
   "cell_type": "code",
   "execution_count": 54,
   "id": "426d76ea",
   "metadata": {},
   "outputs": [
    {
     "name": "stdout",
     "output_type": "stream",
     "text": [
      "\u001b[38;5;246m# A tibble: 9 × 9\u001b[39m\n",
      "  variable       Diagnosis           Resource            Acuity              `Diagnosis+Resources` `Resources+Acuity`  `Diagnosis+Acuity`  All                 `Effect size`   \n",
      "  \u001b[3m\u001b[38;5;246m<chr>\u001b[39m\u001b[23m          \u001b[3m\u001b[38;5;246m<chr>\u001b[39m\u001b[23m               \u001b[3m\u001b[38;5;246m<chr>\u001b[39m\u001b[23m               \u001b[3m\u001b[38;5;246m<chr>\u001b[39m\u001b[23m               \u001b[3m\u001b[38;5;246m<chr>\u001b[39m\u001b[23m                 \u001b[3m\u001b[38;5;246m<chr>\u001b[39m\u001b[23m               \u001b[3m\u001b[38;5;246m<chr>\u001b[39m\u001b[23m               \u001b[3m\u001b[38;5;246m<chr>\u001b[39m\u001b[23m               \u001b[3m\u001b[38;5;246m<chr>\u001b[39m\u001b[23m           \n",
      "\u001b[38;5;250m1\u001b[39m Count          44119               23427               4690                17306                 4278                3578                3170                \u001b[31mNA\u001b[39m              \n",
      "\u001b[38;5;250m2\u001b[39m Proportion     21.9 [21.8-22.1]    11.6 [11.5-11.8]    2.3 [2.3-2.4]       8.6 [8.5-8.7]         2.1 [2.1-2.2]       1.8 [1.7-1.8]       1.6 [1.5-1.6]       1.25 [1.25-1.26]\n",
      "\u001b[38;5;250m3\u001b[39m Age            47.0 [46.9-47.2]    42.2 [42.0-42.5]    38.1 [37.6-38.5]    44.5 [44.2-44.8]      35.3 [34.9-35.8]    37.8 [37.3-38.4]    37.3 [36.7-37.9]    0.08 [0.07-0.08]\n",
      "\u001b[38;5;250m4\u001b[39m Female         60.9 [60.4-61.4]    50.1 [49.4-50.7]    50.3 [48.9-51.8]    59.5 [58.7-60.2]      49.5 [48.0-51.0]    57.4 [55.7-59.0]    52.0 [50.2-53.7]    0.09 [0.09-0.10]\n",
      "\u001b[38;5;250m5\u001b[39m Pain           6 [2-8]             0 [0-5]             5 [2-8]             4 [0-7]               4 [0-6]             7 [4-8]             4 [0-7]             0.05 [0.05-0.05]\n",
      "\u001b[38;5;250m6\u001b[39m Acuity         3 [2-3]             3 [2-3]             4 [4-4]             3 [3-3]               4 [4-4]             4 [4-4]             4 [4-4]             0.38 [0.37-0.38]\n",
      "\u001b[38;5;250m7\u001b[39m Length of stay 414.2 [411.3-417.1] 296.6 [293.6-299.6] 213.9 [208.5-219.4] 261.4 [258.9-263.9]   157.1 [154.0-160.1] 212.9 [206.7-219.1] 151.2 [147.9-154.6] 0.07 [0.07-0.07]\n",
      "\u001b[38;5;250m8\u001b[39m Home           74.9 [74.5-75.3]    91.4 [91.0-91.8]    95.3 [94.6-95.8]    86.6 [86.1-87.1]      95.4 [94.8-96.0]    96.7 [96.1-97.2]    87.0 [85.8-88.1]    0.49 [0.49-0.50]\n",
      "\u001b[38;5;250m9\u001b[39m Admitted       22.6 [22.2-23.0]    0.0 [-0.0-0.0]      3.6 [3.1-4.2]       0.0 [-0.0-0.0]        0.0 [-0.0-0.1]      1.5 [1.1-1.9]       0.0 [-0.0-0.1]      0.53 [0.53-0.54]\n"
     ]
    }
   ],
   "source": [
    "# Functions for table\n",
    "prop_fn <- function(x, n) {\n",
    "  ci <- binom::binom.confint(sum(x) , n, method = \"agresti-coull\")\n",
    "  proportion = ci$mean*100\n",
    "  lower_95 = ci$lower*100\n",
    "  upper_95 = ci$upper*100\n",
    "  sprintf(\"%.1f [%.1f-%.1f]\", proportion, lower_95, upper_95)\n",
    "}\n",
    "\n",
    "summarise_mean <- function(x) {\n",
    "   # Perform t-test to obtain CI\n",
    "  t_result <- t.test(x, conf.level = 0.95, na.rm = TRUE)\n",
    "  \n",
    "  # Create a named list of results\n",
    "  mean = round(t_result$estimate,1)\n",
    "  lower_95_CI = round(t_result$conf.int[1],1)\n",
    "  upper_95_CI = round(t_result$conf.int[2], 1)\n",
    "  sprintf(\"%.1f [%.1f-%.1f]\", mean, lower_95_CI, upper_95_CI)\n",
    "}\n",
    "\n",
    "summarise_median <- function(x) {\n",
    "  q1 <- quantile(x, 0.25, names = FALSE, na.rm = TRUE)\n",
    "  med <- median(x, na.rm = TRUE)\n",
    "  q3 <- quantile(x, 0.75, names = FALSE, na.rm = TRUE)\n",
    "  sprintf(\"%d [%d-%d]\", med, q1, q3)\n",
    "}\n",
    "\n",
    "my_anova <- function(data, variable, group) {\n",
    "  # Extract variable names as strings\n",
    "  var_name <- as_name(enquo(variable))\n",
    "  group_name <- as_name(enquo(group))\n",
    "  formula <- reformulate(group_name, response = var_name)\n",
    "  model <- aov(formula, data = data)\n",
    "  x <- effectsize::eta_squared(model, alternative = \"two.sided\", verbose = FALSE)\n",
    "  sprintf(\"%.2f [%.2f-%.2f]\", x$Eta2[1], x$CI_low[1], x$CI_high[1])\n",
    "}\n",
    "\n",
    "my_chi <- function(data, variable, by) {\n",
    "      # Create contingency table\n",
    "  tab <- table(data[[variable]], data[[by]])\n",
    "  chi_res <- chisq.test(tab)\n",
    "  cv <- ci_cramersv(chi_res)\n",
    "  sprintf(\"%.2f [%.2f-%.2f]\", cv$estimate, cv$interval[[1]], cv$interval[[2]])\n",
    "}\n",
    "\n",
    "compute_cohen_w_ci <- function(var){\n",
    "  # 1. Tabulate observed proportions\n",
    "  observed_tbl <- table(var)\n",
    "  observed_n <- sum(observed_tbl)\n",
    "  observed_prop <- observed_tbl / observed_n\n",
    "  \n",
    "  # 2. Expected proportions (uniform if not provided)\n",
    "  k <- length(observed_tbl)\n",
    "  expected_prop <- rep(1 / k, k)\n",
    "    \n",
    "  # 3. Compute Cohen's w\n",
    "  cohen_w <- sqrt(sum((observed_prop - expected_prop)^2 / expected_prop))\n",
    "  \n",
    "  # 4. Bootstrapping CI\n",
    "  all_levels <- names(observed_tbl)\n",
    "  set.seed(123)  # for reproducibility\n",
    "  bootstrap_w <- replicate(1000, {\n",
    "    v1_sample <- sample(var, length(var), replace = TRUE)\n",
    "    obs_tbl <- table(factor(v1_sample, levels = all_levels))\n",
    "    obs_prop <- obs_tbl / sum(obs_tbl)\n",
    "    sqrt(sum((obs_prop - expected_prop)^2 / expected_prop))\n",
    "  })\n",
    "  \n",
    "  alpha <- 1 - 0.95\n",
    "  ci_lower <- quantile(bootstrap_w, alpha / 2)\n",
    "  ci_upper <- quantile(bootstrap_w, 1 - alpha / 2)\n",
    "  \n",
    "  # 5. Return formatted string\n",
    "  sprintf(\"%.2f [%.2f-%.2f]\", cohen_w, ci_lower, ci_upper)\n",
    "}\n",
    "\n",
    "\n",
    "# Create tables \n",
    "table_2a_data <- table_2_data \n",
    "\n",
    "props <- table_2a_data |> \n",
    "  group_by(combined_group) |>\n",
    "  mutate(\n",
    "    props = (n() / nrow(table_2_data))*100\n",
    "  ) |> \n",
    "  ungroup()\n",
    "\n",
    "# Calculate averages\n",
    "avgs <- table_2a_data |> \n",
    "  group_by(combined_group) |>\n",
    "  summarise(\n",
    "    Count = n(),\n",
    "    Proportion = prop_fn(Count, nrow(ed_data |> collect())),\n",
    "    Age = summarise_mean(age), \n",
    "    Female = prop_fn(female, n()),\n",
    "    Pain = summarise_median(pain),\n",
    "    Acuity = summarise_median(acuity),\n",
    "    `Length of stay` = summarise_mean(length_of_stay),\n",
    "    Home = prop_fn(home, n()),\n",
    "    Admitted = prop_fn(admitted, n()),\n",
    "    .groups = \"drop\"\n",
    "  ) \n",
    "\n",
    "# Append eta row manually\n",
    "eta_row <- tibble(\n",
    "  combined_group = \"Effect size\",\n",
    "  Count = NA,\n",
    "  Proportion = compute_cohen_w_ci(table_2a_data$combined_group),\n",
    "  Age = my_anova(table_2a_data, age, combined_group),\n",
    "  Female = my_chi(table_2a_data, \"female\", \"combined_group\"),\n",
    "  Pain = my_anova(table_2a_data, pain, combined_group),\n",
    "  Acuity = my_anova(table_2a_data, acuity, combined_group),\n",
    "  `Length of stay` = my_anova(table_2a_data, length_of_stay, combined_group),\n",
    "  Home = my_chi(table_2a_data, \"home\", \"combined_group\"),\n",
    "  Admitted = my_chi(table_2a_data, \"admitted\", \"combined_group\")\n",
    ")\n",
    "\n",
    "# Join the tables\n",
    "table2a <- bind_rows(avgs, eta_row) |> \n",
    "  mutate(across(\n",
    "    everything(), \n",
    "    ~as.character(.)\n",
    "    )\n",
    "  ) |>\n",
    "  ## Transpose the table\n",
    "  pivot_longer(\n",
    "    cols        = -combined_group,\n",
    "    names_to    = \"variable\",\n",
    "    values_to   = \"value\"\n",
    "  ) |> \n",
    "  filter(\n",
    "    combined_group != \"000\"\n",
    "  ) |> \n",
    "  mutate(\n",
    "    combined_group = factor(\n",
    "      combined_group, \n",
    "      levels = c(\"100\", \"010\", \"001\", \"110\", \"011\",\"101\", \"111\", \"Effect size\")\n",
    "    )\n",
    "  ) |> \n",
    "  pivot_wider(\n",
    "    names_from  = combined_group,\n",
    "    values_from = value\n",
    "  ) |> \n",
    "  rename(\n",
    "    Diagnosis = \"100\",\n",
    "    Resource = \"010\",\n",
    "    Acuity = \"001\",\n",
    "    `Diagnosis+Resources` = \"110\",\n",
    "    `Resources+Acuity` = \"011\",\n",
    "    `Diagnosis+Acuity` = \"101\",\n",
    "    All = \"111\"\n",
    "  ) |> \n",
    "  select(\n",
    "    variable,\n",
    "    Diagnosis,\n",
    "    Resource,\n",
    "    Acuity,\n",
    "    `Diagnosis+Resources`,\n",
    "     `Resources+Acuity`,\n",
    "     `Diagnosis+Acuity`, \n",
    "     All,\n",
    "     `Effect size`\n",
    "  )\n",
    "\n",
    "table2a |> \n",
    "  print()\n",
    "\n",
    "table2a |> \n",
    "  gt() |> \n",
    "  gtsave(filename = \"table_2a.docx\")\n",
    "\n"
   ]
  },
  {
   "cell_type": "markdown",
   "id": "d42b4e56",
   "metadata": {},
   "source": [
    "## 2B"
   ]
  },
  {
   "cell_type": "code",
   "execution_count": 55,
   "id": "6e3e89b9",
   "metadata": {},
   "outputs": [
    {
     "name": "stdout",
     "output_type": "stream",
     "text": [
      "\u001b[38;5;246m# A tibble: 10 × 2\u001b[39m\n",
      "   variable       All                \n",
      "   \u001b[3m\u001b[38;5;246m<chr>\u001b[39m\u001b[23m          \u001b[3m\u001b[38;5;246m<chr>\u001b[39m\u001b[23m              \n",
      "\u001b[38;5;250m 1\u001b[39m Count          201106             \n",
      "\u001b[38;5;250m 2\u001b[39m Proportion     100.0 [100.0-100.0]\n",
      "\u001b[38;5;250m 3\u001b[39m Age            49.2 [49.1-49.3]   \n",
      "\u001b[38;5;250m 4\u001b[39m Male           46.4 [46.2-46.6]   \n",
      "\u001b[38;5;250m 5\u001b[39m Female         53.6 [53.4-53.8]   \n",
      "\u001b[38;5;250m 6\u001b[39m Pain           4 [0-7]            \n",
      "\u001b[38;5;250m 7\u001b[39m Acuity         3 [2-3]            \n",
      "\u001b[38;5;250m 8\u001b[39m Length of stay 391.5 [390.0-393.0]\n",
      "\u001b[38;5;250m 9\u001b[39m Home           60.4 [60.2-60.6]   \n",
      "\u001b[38;5;250m10\u001b[39m Admitted       34.2 [34.0-34.4]   \n"
     ]
    }
   ],
   "source": [
    "table_2b <- table_2_data |>\n",
    "  summarise(\n",
    "    Count = n(),\n",
    "    Proportion = prop_fn(Count, nrow(ed_data |> collect())),\n",
    "    Age = summarise_mean(age), \n",
    "    Male = prop_fn(male, n()),\n",
    "    Female = prop_fn(female, n()),\n",
    "    Pain = summarise_median(pain),\n",
    "    Acuity = summarise_median(acuity),\n",
    "    `Length of stay` = summarise_mean(length_of_stay),\n",
    "    Home = prop_fn(home, n()),\n",
    "    Admitted = prop_fn(admitted, n()),\n",
    "    .groups = \"drop\"\n",
    "  ) |> \n",
    "  ungroup() |> \n",
    "   mutate(across(\n",
    "    everything(), \n",
    "    ~as.character(.)\n",
    "    )\n",
    "  ) |>\n",
    "  ## Transpose the table\n",
    "  pivot_longer(\n",
    "    cols        = everything(),\n",
    "    names_to    = \"variable\",\n",
    "    values_to   = \"All\"\n",
    "  ) \n",
    "\n",
    "table_2b |> \n",
    "  print()\n",
    "\n",
    "table_2b |> \n",
    "  gt() |> \n",
    "  gtsave(filename = \"table_2b.docx\")\n",
    "  "
   ]
  },
  {
   "cell_type": "markdown",
   "id": "e358f9a1",
   "metadata": {},
   "source": [
    "# Table 3"
   ]
  },
  {
   "cell_type": "code",
   "execution_count": 24,
   "id": "c817061e",
   "metadata": {},
   "outputs": [],
   "source": [
    "table3_data <- ed_data |> \n",
    "  select(\n",
    "    icd_chapter,\n",
    "    primary_code,\n",
    "    cluster,\n",
    "    nyu,\n",
    "    res,\n",
    "    acuity_out,\n",
    "    combined_group\n",
    "  ) |> \n",
    "  collect() |> \n",
    "  mutate(\n",
    "      cluster = case_when(\n",
    "      cluster==0 ~\"Lower back pain\",\n",
    "      cluster==1 ~\"Influenza like illness\",\n",
    "      cluster==2 ~\"Vehicle collision + Altered mental status\",\n",
    "      cluster==3 ~\"Chest pain + dyspnea\",\n",
    "      cluster==4 ~\"Shortness breath\",\n",
    "      cluster==5~\"Abdomen pain\",\n",
    "      cluster==6~\"Leg + knee pain\",\n",
    "      cluster==7~\"Wound evaluation\",\n",
    "      cluster==8~\"Alcohol intoxication\",\n",
    "      cluster==9~\"Nausea vomiting\",\n",
    "      cluster==10 ~\"Suicidal ideation\",\n",
    "      cluster==11 ~\"Fall transfer\",\n",
    "      T~as.character(cluster)),\n",
    "      total_alg = nyu + res + acuity_out,\n",
    "      only_one_algorithm = if_else(total_alg == 1, TRUE, FALSE)\n",
    "    ) |> \n",
    "  select(\n",
    "    -nyu,\n",
    "    -res,\n",
    "    -acuity_out\n",
    "  ) "
   ]
  },
  {
   "cell_type": "code",
   "execution_count": 25,
   "id": "d50bf42a",
   "metadata": {},
   "outputs": [
    {
     "name": "stdout",
     "output_type": "stream",
     "text": [
      "\u001b[38;5;246m# A tibble: 6 × 5\u001b[39m\n",
      "  Rank  Spacer Diagnosis                               Resources `Triage Acuity`\n",
      "  \u001b[3m\u001b[38;5;246m<chr>\u001b[39m\u001b[23m \u001b[3m\u001b[38;5;246m<chr>\u001b[39m\u001b[23m  \u001b[3m\u001b[38;5;246m<chr>\u001b[39m\u001b[23m                                   \u001b[3m\u001b[38;5;246m<chr>\u001b[39m\u001b[23m     \u001b[3m\u001b[38;5;246m<chr>\u001b[39m\u001b[23m          \n",
      "\u001b[38;5;250m1\u001b[39m 1st   \u001b[38;5;246m\"\u001b[39m\u001b[38;5;246m\"\u001b[39m     Abdomen pain (19.1%)                    Wound ev… Wound evaluati…\n",
      "\u001b[38;5;250m2\u001b[39m 2nd   \u001b[38;5;246m\"\u001b[39m\u001b[38;5;246m\"\u001b[39m     Lower back pain (12.4%)                 Chest pa… Leg + knee pai…\n",
      "\u001b[38;5;250m3\u001b[39m 3rd   \u001b[38;5;246m\"\u001b[39m\u001b[38;5;246m\"\u001b[39m     Vehicle collision + Altered mental sta… Vehicle … Lower back pai…\n",
      "\u001b[38;5;250m4\u001b[39m 1st   \u001b[38;5;246m\"\u001b[39m\u001b[38;5;246m\"\u001b[39m     Ill-defined conditions (44.6%)          Injury a… Injury and poi…\n",
      "\u001b[38;5;250m5\u001b[39m 2nd   \u001b[38;5;246m\"\u001b[39m\u001b[38;5;246m\"\u001b[39m     Diseases of the musculoskeletal system… Ill-defi… Diseases of th…\n",
      "\u001b[38;5;250m6\u001b[39m 3rd   \u001b[38;5;246m\"\u001b[39m\u001b[38;5;246m\"\u001b[39m     Diseases of the skin and subcutaneous … Mental d… Factors influe…\n"
     ]
    }
   ],
   "source": [
    "# Helper function: get top 3 per group and format as \"value (n)\"\n",
    "get_top_n_formatted <- function(df, var, n = 3) {\n",
    "  df |>\n",
    "    group_by(combined_group, !!sym(var)) |>\n",
    "    summarise(n = n(), .groups = \"drop\") |>\n",
    "    group_by(combined_group) |>\n",
    "    mutate(group_total = sum(n),\n",
    "          pct = n / group_total * 100,\n",
    "          label = paste0(!!sym(var), \" (\", round(pct, 1), \"%)\")) |>\n",
    "    arrange(combined_group, desc(pct)) |>\n",
    "    group_by(combined_group) |>\n",
    "    slice_max(order_by = pct, n = n) |>\n",
    "    group_by(combined_group) |>\n",
    "    mutate(row = row_number()) |>\n",
    "    select(combined_group, row, label) |>\n",
    "    pivot_wider(names_from = combined_group, values_from = label) |>\n",
    "    arrange(row) |>\n",
    "    select(-row)\n",
    "}\n",
    "\n",
    "# Get top 3 ICD codes per group\n",
    "tbl_icd <- get_top_n_formatted(\n",
    "  table3_data |>  \n",
    "    filter(only_one_algorithm), \n",
    "  var = \"icd_chapter\", \n",
    "  n = 3\n",
    ") |> \n",
    "  mutate(\n",
    "    rank = c(\"1st\", \"2nd\", \"3rd\")\n",
    "  ) |> \n",
    "  select(\n",
    "    Rank = rank,\n",
    "    Diagnosis = `100`,\n",
    "    Resources = `010`,\n",
    "    `Triage Acuity` = `001`\n",
    "  ) \n",
    "\n",
    "tbl_cluster <- get_top_n_formatted(\n",
    "  table3_data|>  \n",
    "    filter(only_one_algorithm),\n",
    "  var = \"cluster\", \n",
    "  n = 3\n",
    ") |> \n",
    "  mutate(\n",
    "    rank = c(\"1st\", \"2nd\", \"3rd\")\n",
    "  ) |> \n",
    "  select(\n",
    "    Rank = rank,\n",
    "    Diagnosis = `100`,\n",
    "    Resources = `010`,\n",
    "    `Triage Acuity` = `001`\n",
    "  ) \n",
    "\n",
    "table_3a <- bind_rows( tbl_cluster, tbl_icd) |> \n",
    "  mutate(Spacer = \"\") |> \n",
    "  select(Rank,Spacer, everything()) \n",
    "\n",
    "table_3a |> \n",
    "  print()\n",
    "table_3a|> \n",
    "  gt() |> \n",
    "  tab_row_group(label = \"Common Diagnoses (Rank, %)\", rows = 1:3) |> \n",
    "  tab_row_group(label = \"Common Complaints (Rank, %)\", rows = 4:6) |> \n",
    "  gtsave(filename = \"table_3a.docx\")\n"
   ]
  },
  {
   "cell_type": "code",
   "execution_count": 26,
   "id": "047c7c97",
   "metadata": {},
   "outputs": [
    {
     "name": "stdout",
     "output_type": "stream",
     "text": [
      "\u001b[38;5;246m# A tibble: 18 × 3\u001b[39m\n",
      "\u001b[38;5;246m# Groups:   icd_chapter, group [18]\u001b[39m\n",
      "   icd_chapter                                                    group     n\n",
      "   \u001b[3m\u001b[38;5;246m<chr>\u001b[39m\u001b[23m                                                          \u001b[3m\u001b[38;5;246m<chr>\u001b[39m\u001b[23m \u001b[3m\u001b[38;5;246m<int>\u001b[39m\u001b[23m\n",
      "\u001b[38;5;250m 1\u001b[39m Ill-defined conditions                                         nyu    \u001b[4m2\u001b[24m759\n",
      "\u001b[38;5;250m 2\u001b[39m Diseases of the digestive system                               nyu    \u001b[4m1\u001b[24m311\n",
      "\u001b[38;5;250m 3\u001b[39m Diseases of the circulatory system                             nyu    \u001b[4m1\u001b[24m302\n",
      "\u001b[38;5;250m 4\u001b[39m Diseases of the skin and subcutaneous tissue                   nyu    \u001b[4m1\u001b[24m196\n",
      "\u001b[38;5;250m 5\u001b[39m Diseases of the genitourinary system                           nyu     950\n",
      "\u001b[38;5;250m 6\u001b[39m Diseases of the musculoskeletal system                         nyu     796\n",
      "\u001b[38;5;250m 7\u001b[39m Infectious and parasitic diseases                              nyu     593\n",
      "\u001b[38;5;250m 8\u001b[39m Diseases of the respiratory system                             nyu     379\n",
      "\u001b[38;5;250m 9\u001b[39m Diseases of the nervous system                                 nyu     210\n",
      "\u001b[38;5;250m10\u001b[39m Endocrine, nutritional and metabolic diseases                  nyu     163\n",
      "\u001b[38;5;250m11\u001b[39m Pregnancy, childbirth and the puerperium                       nyu     143\n",
      "\u001b[38;5;250m12\u001b[39m Diseases of the blood and blood-forming organs                 nyu     120\n",
      "\u001b[38;5;250m13\u001b[39m Neoplasms                                                      nyu      35\n",
      "\u001b[38;5;250m14\u001b[39m Factors influencing health status/contact with health services nyu      25\n",
      "\u001b[38;5;250m15\u001b[39m Diseases of the ear and mastoid process                        nyu      16\n",
      "\u001b[38;5;250m16\u001b[39m Mental disorders                                               nyu       8\n",
      "\u001b[38;5;250m17\u001b[39m Injury and poisoning                                           nyu       5\n",
      "\u001b[38;5;250m18\u001b[39m Diseases of the eye and adnexa                                 nyu       3\n"
     ]
    }
   ],
   "source": [
    "ed_data |> \n",
    "  select(icd_chapter, disposition, nyu, res) |>\n",
    "  collect() |>\n",
    "  pivot_longer(\n",
    "    cols = c(nyu, res),\n",
    "    names_to = \"group\",\n",
    "    values_to = \"value\"\n",
    "  ) |>\n",
    "  filter(value==1, disposition ==\"ADMITTED\") |> \n",
    "  group_by(icd_chapter, group) |>\n",
    "  count() |>\n",
    "  arrange(desc(n), icd_chapter) |> \n",
    "  print(n=30)"
   ]
  },
  {
   "cell_type": "markdown",
   "id": "ada832fe",
   "metadata": {},
   "source": [
    "## 3B"
   ]
  },
  {
   "cell_type": "code",
   "execution_count": 27,
   "id": "e69acc92",
   "metadata": {},
   "outputs": [
    {
     "name": "stdout",
     "output_type": "stream",
     "text": [
      "\u001b[38;5;246m# A tibble: 6 × 1\u001b[39m\n",
      "  summary                                          \n",
      "  \u001b[3m\u001b[38;5;246m<chr>\u001b[39m\u001b[23m                                            \n",
      "\u001b[38;5;250m1\u001b[39m Ill-defined conditions (23.1%)                   \n",
      "\u001b[38;5;250m2\u001b[39m Injury and poisoning (21.2%)                     \n",
      "\u001b[38;5;250m3\u001b[39m Diseases of the circulatory system (7.9%)        \n",
      "\u001b[38;5;250m4\u001b[39m Wound evaluation (21.0%)                         \n",
      "\u001b[38;5;250m5\u001b[39m Vehicle collision + Altered mental status (12.1%)\n",
      "\u001b[38;5;250m6\u001b[39m Abdomen pain (12.1%)                             \n"
     ]
    }
   ],
   "source": [
    "all_diag_f <- function(col_in){\n",
    "  ed_data |> \n",
    "    collect() |> \n",
    "    mutate(\n",
    "      cluster = case_when(\n",
    "      cluster==0 ~\"Lower back pain\",\n",
    "      cluster==1 ~\"Influenza like illness\",\n",
    "      cluster==2 ~\"Vehicle collision + Altered mental status\",\n",
    "      cluster==3 ~\"Chest pain + dyspnea\",\n",
    "      cluster==4 ~\"Shortness breath:\",\n",
    "      cluster==5~\"Abdomen pain\",\n",
    "      cluster==6~\"Leg + knee pain\",\n",
    "      cluster==7~\"Wound evaluation\",\n",
    "      cluster==8~\"Alcohol intoxication\",\n",
    "      cluster==9~\"Nausea vomiting\",\n",
    "      cluster==10 ~\"Suicidal ideation\",\n",
    "      cluster==11 ~\"Fall transfer\"\n",
    "      )\n",
    "    ) |> \n",
    "    select(\n",
    "      col = {{col_in}}\n",
    "    ) |> \n",
    "    count(col, name = \"n\") |>\n",
    "    mutate(percentage = n / sum(n) * 100) |>\n",
    "    arrange(desc(n)) |>\n",
    "    slice_head(n = 3) |>\n",
    "    mutate(summary = sprintf(\"%s (%.1f%%)\", col, percentage)) |>\n",
    "    select(summary)\n",
    "}\n",
    "\n",
    "\n",
    "  tbl_icd_all <- all_diag_f(icd_chapter)\n",
    "  tbl_cluster_all <- all_diag_f(cluster)\n",
    "\n",
    "  table_3b <- bind_rows(tbl_icd_all, tbl_cluster_all) \n",
    "\n",
    "table_3b|> \n",
    "  print()\n",
    "table_3b|> \n",
    "  gt() |> \n",
    "  gtsave(filename = \"table_3b.docx\")"
   ]
  },
  {
   "cell_type": "markdown",
   "id": "a96257f7",
   "metadata": {},
   "source": [
    "# Save\n",
    "Save for prediction analysis"
   ]
  },
  {
   "cell_type": "code",
   "execution_count": 28,
   "id": "b634eee2",
   "metadata": {},
   "outputs": [],
   "source": [
    "write_parquet(ed_data |> collect(), \"ed_single.parquet\")"
   ]
  }
 ],
 "metadata": {
  "language_info": {
   "name": "r"
  }
 },
 "nbformat": 4,
 "nbformat_minor": 5
}
